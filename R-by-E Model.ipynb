{
  "cells": [
    {
      "cell_type": "markdown",
      "source": [
        "Dataset avaialble at :- https://grouplens.org/datasets/hetrec-2011/"
      ],
      "metadata": {
        "id": "MKyH37SzEtg6"
      }
    },
    {
      "cell_type": "markdown",
      "source": [
        "#R-BY-E"
      ],
      "metadata": {
        "id": "ZcC5EUjvBdrR"
      }
    },
    {
      "cell_type": "code",
      "source": [
        "import pandas as pd\n",
        "\n",
        "# Load movies and movie genres data\n",
        "movies_df = pd.read_csv(\"/content/movies.dat\", sep=\"\\t\", encoding=\"latin1\")\n",
        "movie_genres_df = pd.read_csv(\"/content/movie_genres.dat\", sep=\"\\t\", encoding=\"latin1\")\n",
        "\n",
        "# Define similarity threshold and epsilon\n",
        "theta = 0.3  # Set your desired similarity threshold here\n",
        "epsilon = 0.1  # Set your desired epsilon here\n",
        "\n",
        "def similarity(genres1, genres2):\n",
        "    return len(set(genres1).intersection(genres2)) / len(genres1)\n",
        "\n",
        "def reward(movie_id, profile_movies, candidate_movie_id, theta, epsilon):\n",
        "    candidate_features = set(movie_genres_df[movie_genres_df['movieID'] == candidate_movie_id]['genre'])\n",
        "    candidate_covered = set()\n",
        "    for movie in profile_movies:\n",
        "        movie_features = set(movie_genres_df[movie_genres_df['movieID'] == movie]['genre'])\n",
        "        candidate_covered.update(candidate_features.intersection(movie_features))\n",
        "\n",
        "    fi_minus_covered = len(candidate_features - candidate_covered)\n",
        "    fi = len(candidate_features)\n",
        "    fp_minus_covered = len(candidate_features - candidate_covered)\n",
        "    fp = len(candidate_features)\n",
        "\n",
        "    if fi == 0 or fp == 0:\n",
        "        return 0\n",
        "\n",
        "    reward_value = (fi_minus_covered / fi) + (fp_minus_covered / fp)\n",
        "    return reward_value\n",
        "\n",
        "def get_movie_title(movie_id):\n",
        "    return movies_df[movies_df['id'] == movie_id]['title'].iloc[0]\n",
        "\n",
        "def get_movie_features(movie_id):\n",
        "    return movie_genres_df[movie_genres_df['movieID'] == movie_id]['genre'].tolist()\n",
        "\n",
        "def generate_explanation_chain(candidate_movie_id, profile_movies, theta, epsilon):\n",
        "    explanation_chain = []\n",
        "    for movie_id in profile_movies:\n",
        "        rwd = reward(movie_id, profile_movies, candidate_movie_id, theta, epsilon)\n",
        "        if rwd > epsilon:\n",
        "            explanation_chain.append(movie_id)\n",
        "    return explanation_chain\n",
        "\n",
        "def scoring(chain, candidate_movie_id, profile_movies, theta, epsilon, selected_chains):\n",
        "    sum_rwds = sum(reward(movie_id, profile_movies, candidate_movie_id, theta, epsilon) for movie_id in chain)\n",
        "    diversity_penalty = sum(len(set(get_movie_features(candidate_movie_id)).difference(get_movie_features(movie_id))) for movie_id in chain)\n",
        "    score = (sum_rwds / (len(chain) + 1)) + (diversity_penalty / (len(chain) + 1))\n",
        "    return score\n",
        "\n",
        "def select_chains(chains, n):\n",
        "    chains.sort(key=lambda x: x[2], reverse=True)\n",
        "    selected_chains = chains[:n]\n",
        "    return selected_chains\n",
        "\n",
        "def recommend_movies(user_profile, n_recommendations, theta, epsilon):\n",
        "    candidate_movies = movies_df['id'].tolist()\n",
        "    recommended_movies = []\n",
        "    selected_chains = []  # Initialize an empty list to store selected chains\n",
        "    for candidate_movie_id in candidate_movies:\n",
        "        if candidate_movie_id not in user_profile:  # Exclude movies already in user's profile\n",
        "            explanation_chain = generate_explanation_chain(candidate_movie_id, user_profile, theta, epsilon)\n",
        "            if explanation_chain:\n",
        "                score = scoring(explanation_chain, candidate_movie_id, user_profile, theta, epsilon, selected_chains)\n",
        "                recommended_movies.append((candidate_movie_id, explanation_chain, score))\n",
        "\n",
        "    top_n_chains = select_chains(recommended_movies, n_recommendations)\n",
        "    return top_n_chains\n",
        "\n",
        "# Example usage:\n",
        "user_profile = [1, 34, 98, 123, 500]  # Example user profile with movie IDs\n",
        "n_recommendations = 5\n",
        "\n",
        "recommendations = recommend_movies(user_profile, n_recommendations, theta, epsilon)\n",
        "print(\"Recommendations:\")\n",
        "for movie_id, explanation_chain, score in recommendations:\n",
        "    movie_title = get_movie_title(movie_id)\n",
        "    explanation_chain_info = [(get_movie_title(movie_id), get_movie_features(movie_id)) for movie_id in explanation_chain]\n",
        "    print(f\"Movie ID: {movie_id}, Title: {movie_title}, Explanation Chain:\")\n",
        "    for idx, (predecessor_title, predecessor_features) in enumerate(explanation_chain_info):\n",
        "        print(f\"  Predecessor {idx + 1}: Title: {predecessor_title}, Features: {predecessor_features}\")\n",
        "    print(f\"Score: {score}\")\n"
      ],
      "metadata": {
        "colab": {
          "base_uri": "https://localhost:8080/"
        },
        "id": "TN6QGvF5vvhH",
        "outputId": "edd2da94-a24d-4d4b-8cba-23ad0bbefee7"
      },
      "execution_count": null,
      "outputs": [
        {
          "output_type": "stream",
          "name": "stdout",
          "text": [
            "Recommendations:\n",
            "Movie ID: 51709, Title: Gwoemul, Explanation Chain:\n",
            "  Predecessor 1: Title: Toy story, Features: ['Adventure', 'Animation', 'Children', 'Comedy', 'Fantasy']\n",
            "  Predecessor 2: Title: Babe, Features: ['Children', 'Comedy', 'Drama', 'Fantasy']\n",
            "  Predecessor 3: Title: Going Shopping, Features: ['Action', 'Thriller']\n",
            "  Predecessor 4: Title: Chung Hing sam lam, Features: ['Drama', 'Mystery', 'Romance']\n",
            "  Predecessor 5: Title: Mrs. Doubtfire, Features: ['Comedy', 'Drama']\n",
            "Score: 5.25\n",
            "Movie ID: 6741, Title: God Told Me To, Explanation Chain:\n",
            "  Predecessor 1: Title: Toy story, Features: ['Adventure', 'Animation', 'Children', 'Comedy', 'Fantasy']\n",
            "  Predecessor 2: Title: Babe, Features: ['Children', 'Comedy', 'Drama', 'Fantasy']\n",
            "  Predecessor 3: Title: Going Shopping, Features: ['Action', 'Thriller']\n",
            "  Predecessor 4: Title: Chung Hing sam lam, Features: ['Drama', 'Mystery', 'Romance']\n",
            "  Predecessor 5: Title: Mrs. Doubtfire, Features: ['Comedy', 'Drama']\n",
            "Score: 4.833333333333334\n",
            "Movie ID: 6966, Title: Darkman, Explanation Chain:\n",
            "  Predecessor 1: Title: Toy story, Features: ['Adventure', 'Animation', 'Children', 'Comedy', 'Fantasy']\n",
            "  Predecessor 2: Title: Babe, Features: ['Children', 'Comedy', 'Drama', 'Fantasy']\n",
            "  Predecessor 3: Title: Going Shopping, Features: ['Action', 'Thriller']\n",
            "  Predecessor 4: Title: Chung Hing sam lam, Features: ['Drama', 'Mystery', 'Romance']\n",
            "  Predecessor 5: Title: Mrs. Doubtfire, Features: ['Comedy', 'Drama']\n",
            "Score: 4.833333333333334\n",
            "Movie ID: 52281, Title: Grindhouse, Explanation Chain:\n",
            "  Predecessor 1: Title: Toy story, Features: ['Adventure', 'Animation', 'Children', 'Comedy', 'Fantasy']\n",
            "  Predecessor 2: Title: Babe, Features: ['Children', 'Comedy', 'Drama', 'Fantasy']\n",
            "  Predecessor 3: Title: Going Shopping, Features: ['Action', 'Thriller']\n",
            "  Predecessor 4: Title: Chung Hing sam lam, Features: ['Drama', 'Mystery', 'Romance']\n",
            "  Predecessor 5: Title: Mrs. Doubtfire, Features: ['Comedy', 'Drama']\n",
            "Score: 4.833333333333334\n",
            "Movie ID: 31804, Title: Nochnoy dozor, Explanation Chain:\n",
            "  Predecessor 1: Title: Toy story, Features: ['Adventure', 'Animation', 'Children', 'Comedy', 'Fantasy']\n",
            "  Predecessor 2: Title: Babe, Features: ['Children', 'Comedy', 'Drama', 'Fantasy']\n",
            "  Predecessor 3: Title: Going Shopping, Features: ['Action', 'Thriller']\n",
            "  Predecessor 4: Title: Chung Hing sam lam, Features: ['Drama', 'Mystery', 'Romance']\n",
            "  Predecessor 5: Title: Mrs. Doubtfire, Features: ['Comedy', 'Drama']\n",
            "Score: 4.722222222222222\n"
          ]
        }
      ]
    },
    {
      "cell_type": "markdown",
      "source": [
        "#Content_Based"
      ],
      "metadata": {
        "id": "G2Yv085bBim5"
      }
    },
    {
      "cell_type": "code",
      "source": [
        "import pandas as pd\n",
        "import numpy as np\n",
        "from sklearn.feature_extraction.text import CountVectorizer\n",
        "from sklearn.metrics.pairwise import pairwise_distances\n",
        "import pickle\n",
        "\n",
        "# Load movie data\n",
        "movies = pd.read_csv('/content/movies.dat', sep='\\t', encoding='latin1', engine='python')\n",
        "genres = pd.read_csv('/content/movie_genres.dat', sep='\\t', encoding='latin1', engine='python')\n",
        "\n",
        "# Merge movie data with genres\n",
        "movies = movies.merge(genres, left_on='id', right_on='movieID')\n",
        "\n",
        "# Combine movie title and genre for each movie\n",
        "movies['tags'] = movies['genre']\n",
        "\n",
        "# Initialize CountVectorizer\n",
        "cv = CountVectorizer(max_features=5000, stop_words='english')\n",
        "\n",
        "# Fit and transform the data\n",
        "vector = cv.fit_transform(movies['tags']).toarray()\n",
        "\n",
        "# Compute Jaccard similarity\n",
        "similarity = pairwise_distances(vector, metric='jaccard')\n",
        "\n",
        "# Function to recommend similar movies based on Jaccard similarity\n",
        "def recommend_similar_movies(user_profile, threshold=0.2, num_recommendations=5):\n",
        "    recommended_movies = set()\n",
        "    user_profile_set = set(user_profile)\n",
        "    for movie_id in user_profile:\n",
        "        index = movies[movies['id'] == movie_id].index[0]\n",
        "        similar_movies_indices = np.where(similarity[index] < threshold)[0]\n",
        "        for idx in similar_movies_indices:\n",
        "            recommended_movies.add(movies.iloc[idx]['title'])\n",
        "    # Remove movies already in the user's profile\n",
        "    recommended_movies -= user_profile_set\n",
        "    return list(recommended_movies)[:num_recommendations]\n",
        "\n",
        "# Example user profile\n",
        "user_profile = [1, 34, 98, 123, 500]\n",
        "\n",
        "# Number of top recommendations to display\n",
        "num_recommendations = 5\n",
        "\n",
        "# Recommend similar movies for the user profile\n",
        "recommended_movies = recommend_similar_movies(user_profile, num_recommendations=num_recommendations)\n",
        "\n",
        "print(f\"Top {num_recommendations} recommended movies:\")\n",
        "for movie in recommended_movies:\n",
        "    print(movie)\n",
        "\n",
        "# Save processed data and similarity matrix\n",
        "pickle.dump(movies, open('movie_list.pkl', 'wb'))\n",
        "pickle.dump(similarity, open('similarity.pkl', 'wb'))\n"
      ],
      "metadata": {
        "colab": {
          "base_uri": "https://localhost:8080/"
        },
        "id": "VJsEB1934pDy",
        "outputId": "fcb50a6f-aba2-4aa0-c1d8-43aba3d347c0"
      },
      "execution_count": null,
      "outputs": [
        {
          "output_type": "stream",
          "name": "stderr",
          "text": [
            "/usr/local/lib/python3.10/dist-packages/sklearn/metrics/pairwise.py:2025: DataConversionWarning: Data was converted to boolean for metric jaccard\n",
            "  warnings.warn(msg, DataConversionWarning)\n"
          ]
        },
        {
          "output_type": "stream",
          "name": "stdout",
          "text": [
            "Top 5 recommended movies:\n",
            "Return of the Secaucus Seven\n",
            "Fried Green Tomatoes\n",
            "Gongdong gyeongbi guyeok JSA\n",
            "Captain Horatio Hornblower R.N.\n",
            "How She Move\n"
          ]
        }
      ]
    },
    {
      "cell_type": "markdown",
      "source": [
        "#Rough Work"
      ],
      "metadata": {
        "id": "KXXaP-SsVgKL"
      }
    },
    {
      "cell_type": "code",
      "source": [
        "l= [1, 34, 98, 123, 500]\n",
        "for i in l:\n",
        "  title=get_movie_title(i)\n",
        "  feats=get_movie_features(i)\n",
        "  print(f'movie id {i} ,has movie title :- {title} and, has features :- {feats}')"
      ],
      "metadata": {
        "colab": {
          "base_uri": "https://localhost:8080/"
        },
        "id": "TESyQgKGJPlb",
        "outputId": "dac2143f-8ffb-4c02-c461-062229fa8b10"
      },
      "execution_count": null,
      "outputs": [
        {
          "output_type": "stream",
          "name": "stdout",
          "text": [
            "movie title :- Toy story, has features :- ['Adventure', 'Animation', 'Children', 'Comedy', 'Fantasy']\n",
            "movie title :- Babe, has features :- ['Children', 'Comedy', 'Drama', 'Fantasy']\n",
            "movie title :- Going Shopping, has features :- ['Action', 'Thriller']\n",
            "movie title :- Chung Hing sam lam, has features :- ['Drama', 'Mystery', 'Romance']\n",
            "movie title :- Mrs. Doubtfire, has features :- ['Comedy', 'Drama']\n"
          ]
        }
      ]
    },
    {
      "cell_type": "code",
      "source": [
        "l=[51709,6741,6966,52281,31804]\n",
        "candidate_set =set()\n",
        "for i in l:\n",
        "  title=get_movie_title(i)\n",
        "  feats=get_movie_features(i)\n",
        "  print(f'movie id {i} ,has movie title :- {title} and, has features :- {feats}')\n",
        "  for j in feats:\n",
        "    candidate_set.add(j)\n",
        "\n",
        "print(candidate_set)"
      ],
      "metadata": {
        "colab": {
          "base_uri": "https://localhost:8080/"
        },
        "id": "GM9r10nvmXDF",
        "outputId": "f8eaa944-ccf5-4ddc-ccdd-081d65a66f07"
      },
      "execution_count": null,
      "outputs": [
        {
          "output_type": "stream",
          "name": "stdout",
          "text": [
            "movie id 51709 ,has movie title :- Gwoemul and, has features :- ['Action', 'Adventure', 'Comedy', 'Drama', 'Fantasy', 'Horror', 'Sci-Fi', 'Thriller']\n",
            "movie id 6741 ,has movie title :- God Told Me To and, has features :- ['Crime', 'Horror', 'Mystery', 'Sci-Fi', 'Thriller']\n",
            "movie id 6966 ,has movie title :- Darkman and, has features :- ['Action', 'Crime', 'Horror', 'Sci-Fi', 'Thriller']\n",
            "movie id 52281 ,has movie title :- Grindhouse and, has features :- ['Action', 'Crime', 'Horror', 'Sci-Fi', 'Thriller']\n",
            "movie id 31804 ,has movie title :- Nochnoy dozor and, has features :- ['Action', 'Fantasy', 'Horror', 'Mystery', 'Sci-Fi', 'Thriller']\n",
            "{'Action', 'Mystery', 'Sci-Fi', 'Drama', 'Comedy', 'Horror', 'Crime', 'Fantasy', 'Adventure', 'Thriller'}\n"
          ]
        }
      ]
    },
    {
      "cell_type": "code",
      "source": [
        "l= [1, 34, 98, 123, 500]\n",
        "profile_set =set()\n",
        "for i in l:\n",
        "  title=get_movie_title(i)\n",
        "  feats=get_movie_features(i)\n",
        "  print(f'movie id {i} ,has movie title :- {title} and, has features :- {feats}')\n",
        "  for j in feats:\n",
        "    profile_set.add(j)\n",
        "\n",
        "print(profile_set)"
      ],
      "metadata": {
        "colab": {
          "base_uri": "https://localhost:8080/"
        },
        "id": "zBw-0i8W-0Vc",
        "outputId": "ef9a95e6-044a-45a0-d9a4-6244035c09d8"
      },
      "execution_count": null,
      "outputs": [
        {
          "output_type": "stream",
          "name": "stdout",
          "text": [
            "movie id 1 ,has movie title :- Toy story and, has features :- ['Adventure', 'Animation', 'Children', 'Comedy', 'Fantasy']\n",
            "movie id 34 ,has movie title :- Babe and, has features :- ['Children', 'Comedy', 'Drama', 'Fantasy']\n",
            "movie id 98 ,has movie title :- Going Shopping and, has features :- ['Action', 'Thriller']\n",
            "movie id 123 ,has movie title :- Chung Hing sam lam and, has features :- ['Drama', 'Mystery', 'Romance']\n",
            "movie id 500 ,has movie title :- Mrs. Doubtfire and, has features :- ['Comedy', 'Drama']\n",
            "{'Action', 'Mystery', 'Drama', 'Children', 'Comedy', 'Romance', 'Fantasy', 'Adventure', 'Animation', 'Thriller'}\n"
          ]
        }
      ]
    },
    {
      "cell_type": "code",
      "source": [
        "print(\"Features left out by cnaduidates :- \", profile_set.difference(candidate_set))\n",
        "print(\"Features Added by candidates :- \", candidate_set.difference(profile_set))"
      ],
      "metadata": {
        "colab": {
          "base_uri": "https://localhost:8080/"
        },
        "id": "HVZjPHVAASO4",
        "outputId": "1754819c-d6aa-4249-ffc3-71f77c45d065"
      },
      "execution_count": null,
      "outputs": [
        {
          "output_type": "stream",
          "name": "stdout",
          "text": [
            "Features left out by cnaduidates :-  {'Romance', 'Animation', 'Children'}\n",
            "Features Added by candidates :-  {'Sci-Fi', 'Horror', 'Crime'}\n"
          ]
        }
      ]
    }
  ],
  "metadata": {
    "colab": {
      "provenance": [],
      "collapsed_sections": [
        "KXXaP-SsVgKL"
      ]
    },
    "kernelspec": {
      "display_name": "Python 3",
      "name": "python3"
    },
    "language_info": {
      "name": "python"
    }
  },
  "nbformat": 4,
  "nbformat_minor": 0
}